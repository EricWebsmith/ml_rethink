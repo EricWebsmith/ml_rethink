{
 "cells": [
  {
   "cell_type": "code",
   "execution_count": null,
   "metadata": {},
   "outputs": [],
   "source": [
    "import numpy as np\n",
    "import pandas as pd\n",
    "\n",
    "from sklearn.model_selection import train_test_split\n",
    "from sklearn.metrics import accuracy_score, roc_auc_score\n",
    "from pyod.models.iforest import IForest\n",
    "\n",
    "from itertools import product\n",
    "\n",
    "\n",
    "import matplotlib.pyplot as plt\n",
    "import seaborn as sns\n",
    "import matplotlib\n",
    "from sklearn import __version__ as sklearn_version\n",
    "print(pd.__version__)\n",
    "print(sklearn_version)\n",
    "\n",
    "from scipy import io as sio\n",
    "\n",
    "import h5py"
   ]
  },
  {
   "cell_type": "code",
   "execution_count": null,
   "metadata": {},
   "outputs": [],
   "source": [
    "class UFIF():\n",
    "    \"\"\"\n",
    "    Universal Filled Isolation Forest.\n",
    "    Wrapper of the normal one.\n",
    "    \"\"\"\n",
    "    contamination=0.1\n",
    "    \n",
    "    X=None\n",
    "    X_fill=None\n",
    "    X_filled=None\n",
    "    \n",
    "    iforest:IForest=None\n",
    "    \n",
    "    def __init__(self, n_estimators=100, contamination=0.1, random_state=None, max_depth=8):\n",
    "        self.iforest=IForest(\n",
    "            n_estimators=n_estimators, \n",
    "            contamination=contamination, \n",
    "            random_state=random_state,\n",
    "            max_depth=max_depth\n",
    "        )\n",
    "        \n",
    "    def get_filling(self, n:int):\n",
    "        return np.array(list(product([0, .1, .2, .3, .4, .5, .6, .7, .8, .9, 1], repeat=n)))\n",
    "        \n",
    "    def fit(self, X, y=None):\n",
    "        n_features = X.shape[1]\n",
    "        X_fill = self.get_filling(n_features)\n",
    "        X_filled = np.concatenate([X, X_fill], axis=0)\n",
    "        self.iforest.fit(X_filled)\n",
    "        return self\n",
    "    \n",
    "    def predict_proba(self, X):\n",
    "        return self.iforest.predict_proba(X)"
   ]
  },
  {
   "cell_type": "code",
   "execution_count": null,
   "metadata": {},
   "outputs": [],
   "source": [
    "def get_X_y_73(filename):\n",
    "    f=h5py.File(filename, 'r')\n",
    "    d={}\n",
    "    for k, v in f.items():\n",
    "        d[k]=v\n",
    "        print(k, v)\n",
    "    X=d['X'].value.T\n",
    "    y=d['y'].value[0]\n",
    "    \n",
    "    X=X-np.min(X, axis=0)\n",
    "    X=X/np.max(X, axis=0)\n",
    "    \n",
    "    return X, y\n",
    "\n",
    "def get_X_y_50(filename):\n",
    "    dat = sio.loadmat(filename)\n",
    "    X=dat['X']\n",
    "    y=dat['y']\n",
    "    X=X-np.min(X, axis=0)\n",
    "    X=X/np.max(X, axis=0)\n",
    "    \n",
    "    return X, y\n",
    "\n",
    "def compare(X_train, y_train, X_test, y_test):\n",
    "    # X, y = get_X_y(filename)\n",
    "    n_features = X_train.shape[1]\n",
    "    n_samples = len(y_train)\n",
    "    n_anomalies = sum(y_train)\n",
    "    print(f\"n_samples:{n_samples}, n_anomalies:{n_anomalies}\")\n",
    "    contamination=n_anomalies/n_samples\n",
    "\n",
    "    if_aucs=[]\n",
    "    ufif_aucs=[]\n",
    "    for random_state in [11,22,33,44,55,66,77,88,99,101]:\n",
    "        print(f'random_state {random_state}')\n",
    "        clf = IForest(contamination=contamination, random_state=random_state)\n",
    "        clf.fit(X_train)\n",
    "        y_proba=clf.predict_proba(X_test)\n",
    "        if_auc=roc_auc_score(y_test ,y_proba[:,1])\n",
    "        if_aucs.append(if_auc)\n",
    "\n",
    "        ufif = UFIF(contamination=contamination, random_state=random_state)\n",
    "        ufif.fit(X_train)\n",
    "        y_proba=ufif.predict_proba(X_test)\n",
    "        ufif_auc=roc_auc_score(y_test ,y_proba[:,1])\n",
    "        ufif_aucs.append(ufif_auc)\n",
    "        \n",
    "        print(if_auc, ufif_auc)\n",
    "\n",
    "    if_auc = np.mean(if_aucs)\n",
    "    ufif_auc = np.mean(ufif_aucs)\n",
    "    return n_samples, n_features, n_anomalies, if_auc, ufif_auc"
   ]
  },
  {
   "cell_type": "markdown",
   "metadata": {},
   "source": [
    "# SMPT"
   ]
  },
  {
   "cell_type": "code",
   "execution_count": null,
   "metadata": {},
   "outputs": [],
   "source": [
    "X, y = get_X_y_73('data/smtp.mat')\n",
    "X_train, X_test, y_train, y_test = train_test_split(X, y, train_size=0.1)\n",
    "compare(X_train, y_train, X_test, y_test)"
   ]
  },
  {
   "cell_type": "code",
   "execution_count": null,
   "metadata": {},
   "outputs": [],
   "source": []
  },
  {
   "cell_type": "code",
   "execution_count": null,
   "metadata": {},
   "outputs": [],
   "source": []
  },
  {
   "cell_type": "markdown",
   "metadata": {},
   "source": [
    "# HTTP"
   ]
  },
  {
   "cell_type": "code",
   "execution_count": null,
   "metadata": {
    "scrolled": true
   },
   "outputs": [],
   "source": [
    "X, y = get_X_y_73('data/http.mat')\n",
    "X_train, X_test, y_train, y_test = train_test_split(X, y, train_size=0.1)\n",
    "compare(X_train, y_train, X_test, y_test)"
   ]
  },
  {
   "cell_type": "code",
   "execution_count": null,
   "metadata": {},
   "outputs": [],
   "source": []
  },
  {
   "cell_type": "code",
   "execution_count": null,
   "metadata": {},
   "outputs": [],
   "source": [
    "X, y = get_X_y_50('data/pima.mat')\n",
    "X_train, X_test, y_train, y_test = train_test_split(X, y, train_size=0.5)\n",
    "compare(X_train, y_train, X_test, y_test)"
   ]
  },
  {
   "cell_type": "code",
   "execution_count": null,
   "metadata": {},
   "outputs": [],
   "source": []
  },
  {
   "cell_type": "code",
   "execution_count": null,
   "metadata": {},
   "outputs": [],
   "source": [
    "X, y = get_X_y_50('data/cover.mat')\n",
    "ca, cb = compare(X, y)"
   ]
  },
  {
   "cell_type": "code",
   "execution_count": null,
   "metadata": {},
   "outputs": [],
   "source": []
  },
  {
   "cell_type": "code",
   "execution_count": null,
   "metadata": {},
   "outputs": [],
   "source": []
  },
  {
   "cell_type": "code",
   "execution_count": null,
   "metadata": {},
   "outputs": [],
   "source": []
  },
  {
   "cell_type": "code",
   "execution_count": null,
   "metadata": {},
   "outputs": [],
   "source": [
    "\n",
    "    \n"
   ]
  },
  {
   "cell_type": "code",
   "execution_count": null,
   "metadata": {},
   "outputs": [],
   "source": []
  },
  {
   "cell_type": "code",
   "execution_count": null,
   "metadata": {},
   "outputs": [],
   "source": []
  },
  {
   "cell_type": "code",
   "execution_count": null,
   "metadata": {},
   "outputs": [],
   "source": []
  }
 ],
 "metadata": {
  "kernelspec": {
   "display_name": "Python 3",
   "language": "python",
   "name": "python3"
  },
  "language_info": {
   "codemirror_mode": {
    "name": "ipython",
    "version": 3
   },
   "file_extension": ".py",
   "mimetype": "text/x-python",
   "name": "python",
   "nbconvert_exporter": "python",
   "pygments_lexer": "ipython3",
   "version": "3.8.3"
  }
 },
 "nbformat": 4,
 "nbformat_minor": 4
}
